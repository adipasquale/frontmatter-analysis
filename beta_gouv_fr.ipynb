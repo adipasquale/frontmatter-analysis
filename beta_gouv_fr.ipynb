{
 "cells": [
  {
   "cell_type": "code",
   "execution_count": 13,
   "source": [
    "import pandas as pd\n",
    "from pathlib import Path\n",
    "import frontmatter"
   ],
   "outputs": [],
   "metadata": {}
  },
  {
   "cell_type": "code",
   "execution_count": 26,
   "source": [
    "dir_path = \"/Users/adriendipasquale/dev/beta.gouv.fr/content/_startups/\"\n",
    "data = [frontmatter.load(path).metadata for path in Path(dir_path).glob('*.md')]\n",
    "df = pd.DataFrame(data)\n",
    "\n",
    "def is_active(row):\n",
    "    if not row.get(\"phases\"):\n",
    "        return False\n",
    "    return row[\"phases\"][-1][\"name\"] != \"alumni\"\n",
    "\n",
    "df[\"active\"] = df.apply(lambda row : is_active(row), axis=1) "
   ],
   "outputs": [],
   "metadata": {}
  },
  {
   "cell_type": "code",
   "execution_count": 27,
   "source": [
    "with pd.option_context('display.width', 100):\n",
    "    print(df.describe().transpose())"
   ],
   "outputs": [
    {
     "output_type": "stream",
     "name": "stdout",
     "text": [
      "              count unique                                                top freq\n",
      "title           253    253                                              Aeris    1\n",
      "mission         253    250  Permettre aux usagers de trouver le bon interl...    2\n",
      "owner           250    125                                              DINUM   18\n",
      "sponsors        145     90  [{'name': 'Pôle Emploi', 'acronym': 'PE', 'dom...   13\n",
      "incubator       253     14                                              dinum   81\n",
      "events           56     35                                                 []   13\n",
      "phases          253    220    [{'name': 'construction', 'start': 2020-04-01}]    5\n",
      "repository      123    121                    http://github.com/betagouv/itou    3\n",
      "stats           205      2                                              False  124\n",
      "contact         253    192                     contactincubateur@anct.gouv.fr   23\n",
      "link            120    120            https://www.psyenfantado.sante.gouv.fr/    1\n",
      "stats_url        40     40  https://peps-metabase.cleverapps.io/public/das...    1\n",
      "redirect_from    23     23                           [/startups/openacademie]    1\n",
      "techno           14     10                                         [en cours]    4\n",
      "budget_url        2      2                        https://cartobio.org/budget    1\n",
      "robots            1      1                                            noindex    1\n",
      "rgpd              1      1  {'responsable': 'DGEFP', 'finalites': ['facili...    1\n",
      "active          253      2                                               True  159\n"
     ]
    }
   ],
   "metadata": {}
  },
  {
   "cell_type": "code",
   "execution_count": 28,
   "source": [
    "# only active\n",
    "with pd.option_context('display.width', 100):\n",
    "    print(df[df[\"active\"]].describe().transpose())"
   ],
   "outputs": [
    {
     "output_type": "stream",
     "name": "stdout",
     "text": [
      "              count unique                                                top freq\n",
      "title           159    159                                       PsyEnfantAdo    1\n",
      "mission         159    158  Faciliter la vie des personnes en insertion et...    2\n",
      "owner           159     88                               Ministère des Armées   15\n",
      "sponsors         98     66  [{'name': 'Pôle Emploi', 'acronym': 'PE', 'dom...   10\n",
      "incubator       159     14                                              dinum   48\n",
      "events           28     17                                                 []   12\n",
      "phases          159    146    [{'name': 'construction', 'start': 2020-04-01}]    5\n",
      "repository       90     88                    http://github.com/betagouv/itou    3\n",
      "stats           123      2                                               True   70\n",
      "contact         159    137                         romain.perroud@def.gouv.fr    9\n",
      "link             97     97            https://www.psyenfantado.sante.gouv.fr/    1\n",
      "stats_url        37     37  https://peps-metabase.cleverapps.io/public/das...    1\n",
      "redirect_from    20     20                        [/startups/competences-pro]    1\n",
      "techno           10      7                                         [en cours]    4\n",
      "budget_url        2      2                        https://cartobio.org/budget    1\n",
      "robots            0      0                                                NaN  NaN\n",
      "rgpd              1      1  {'responsable': 'DGEFP', 'finalites': ['facili...    1\n",
      "active          159      1                                               True  159\n"
     ]
    }
   ],
   "metadata": {}
  },
  {
   "cell_type": "code",
   "execution_count": null,
   "source": [],
   "outputs": [],
   "metadata": {}
  }
 ],
 "metadata": {
  "kernelspec": {
   "name": "python3",
   "display_name": "Python 3.9.5 64-bit ('.venv': poetry)"
  },
  "language_info": {
   "codemirror_mode": {
    "name": "ipython",
    "version": 3
   },
   "file_extension": ".py",
   "mimetype": "text/x-python",
   "name": "python",
   "nbconvert_exporter": "python",
   "pygments_lexer": "ipython3",
   "version": "3.9.5"
  },
  "interpreter": {
   "hash": "742ef6671f3da6227f5d873a32f263910354f7ef90a1fca8a21ceef656a565f0"
  }
 },
 "nbformat": 4,
 "nbformat_minor": 5
}